{
 "cells": [
  {
   "cell_type": "markdown",
   "metadata": {},
   "source": [
    "# 📊 Project 7: A Machine Learning Journey\n",
    "**Author:** Sabriya Sowers\n",
    "🔗 [GitHub Repository](https://github.com/ssowers2/datafun-07-applied)"
   ]
  },
  {
   "cell_type": "markdown",
   "metadata": {},
   "source": [
    "### Required Python Libraries Imports"
   ]
  },
  {
   "cell_type": "code",
   "execution_count": 133,
   "metadata": {},
   "outputs": [
    {
     "name": "stdout",
     "output_type": "stream",
     "text": [
      "Imports loaded successfully!\n",
      "\n",
      "Python Version: 3.13.1 (tags/v3.13.1:0671451, Dec  3 2024, 19:06:28) [MSC v.1942 64 bit (AMD64)]\n",
      "OS Version: nt\n",
      "IPython Version: 8.32.0\n",
      "NumPy Version: 2.2.3\n",
      "Pandas Version: 2.2.3\n",
      "PyArrow Version: 19.0.0\n",
      "SciPy Version: 1.15.2\n",
      "Matplotlib Version: 3.10.0\n",
      "Seaborn Version: 0.13.2\n",
      "NLTK Version: 3.9.1\n",
      "TextBlob Version: 0.19.0\n",
      "Scikit-learn Version: 1.6.1\n"
     ]
    }
   ],
   "source": [
    "# Required imports for project\n",
    "import sys\n",
    "import os\n",
    "import IPython\n",
    "import numpy as np\n",
    "import pandas as pd\n",
    "import pyarrow as pa\n",
    "import scipy\n",
    "from scipy import stats\n",
    "import matplotlib.pyplot as plt\n",
    "import seaborn as sns\n",
    "import nltk\n",
    "import pkg_resources\n",
    "import sklearn\n",
    "from importlib.metadata import version\n",
    "from sklearn.model_selection import train_test_split \n",
    "from sklearn.linear_model import LinearRegression \n",
    "\n",
    "# Confirm imports loaded \n",
    "print(\"Imports loaded successfully!\")\n",
    "\n",
    "# Adds a blank line\n",
    "print()  \n",
    "\n",
    "# Check and print the versions of installed packages\n",
    "print(\"Python Version:\", sys.version)  # Python interpreter version\n",
    "print(\"OS Version:\", os.name)  # Operating system name\n",
    "print(\"IPython Version:\", IPython.__version__)  # Interactive Python shell version\n",
    "\n",
    "# Core scientific and data processing libraries\n",
    "print(\"NumPy Version:\", np.__version__)  # Numerical computing library\n",
    "print(\"Pandas Version:\", pd.__version__)  # Data analysis and manipulation\n",
    "print(\"PyArrow Version:\", pa.__version__)  # Apache Arrow for efficient data handling\n",
    "print(\"SciPy Version:\", scipy.__version__)  # Scientific computing library\n",
    "\n",
    "# Data visualization libraries\n",
    "print(\"Matplotlib Version:\", plt.matplotlib.__version__)  # Plotting library\n",
    "print(\"Seaborn Version:\", sns.__version__)  # Statistical data visualization\n",
    "\n",
    "# Natural Language Processing (NLP) libraries\n",
    "print(\"NLTK Version:\", nltk.__version__)  # Natural language processing toolkit\n",
    "print(\"TextBlob Version:\", version(\"textblob\")) # Text processing and sentiment analysis\n",
    "\n",
    "# Machine Learning library\n",
    "print(\"Scikit-learn Version:\", sklearn.__version__)  # Machine learning tools"
   ]
  },
  {
   "cell_type": "markdown",
   "metadata": {},
   "source": [
    "## Part 1: Chart a Straight Line"
   ]
  },
  {
   "cell_type": "markdown",
   "metadata": {},
   "source": [
    "### Fahrenheit to Celsius Conversion"
   ]
  },
  {
   "cell_type": "code",
   "execution_count": 134,
   "metadata": {},
   "outputs": [
    {
     "name": "stdout",
     "output_type": "stream",
     "text": [
      "[(0, -17.77777777777778), (10, -12.222222222222223), (20, -6.666666666666667), (30, -1.1111111111111112), (40, 4.444444444444445), (50, 10.0), (60, 15.555555555555557), (70, 21.11111111111111), (80, 26.666666666666668), (90, 32.22222222222222), (100, 37.77777777777778)]\n"
     ]
    }
   ],
   "source": [
    "# Define the lambda function for Fahrenheit to Celsius conversion\n",
    "c = lambda f: 5 / 9 * (f - 32)\n",
    "\n",
    "# Create a list of tuples (Fahrenheit, Celsius)\n",
    "temps = [(f, c(f)) for f in range (0, 101, 10)]\n",
    "\n",
    "print(temps)"
   ]
  },
  {
   "cell_type": "markdown",
   "metadata": {},
   "source": [
    "### Plotting Fahrenheit vs. Celsius"
   ]
  },
  {
   "cell_type": "code",
   "execution_count": 135,
   "metadata": {},
   "outputs": [
    {
     "data": {
      "image/png": "[encoded data removed]",
      "text/plain": [
       "<Figure size 640x480 with 1 Axes>"
      ]
     },
     "metadata": {},
     "output_type": "display_data"
    }
   ],
   "source": [
    "temps_df = pd.DataFrame(temps, columns=['Fahrenheit', 'Celsius'])\n",
    "axes = temps_df.plot(x='Fahrenheit', y='Celsius', style='.-')\n",
    "y_label = axes.set_ylabel('Celsius')\n",
    "\n",
    "# Graph Title \";\" removes text above chart\n",
    "axes.set_title(\"Temperature Conversion: Fahrenheit to Celsius\");  "
   ]
  },
  {
   "cell_type": "markdown",
   "metadata": {},
   "source": [
    "## Part 2: Predict Avg High Temp in NYC in January"
   ]
  },
  {
   "cell_type": "markdown",
   "metadata": {},
   "source": [
    "### Data Aquisition"
   ]
  },
  {
   "cell_type": "code",
   "execution_count": 136,
   "metadata": {},
   "outputs": [],
   "source": [
    "# Loads dataset\n",
    "nyc_df = pd.read_csv('data/ave_hi_nyc_jan_1895-2018.csv')\n"
   ]
  },
  {
   "cell_type": "markdown",
   "metadata": {},
   "source": [
    "### Data Inspection"
   ]
  },
  {
   "cell_type": "code",
   "execution_count": 137,
   "metadata": {},
   "outputs": [
    {
     "data": {
      "text/html": [
       "<div>\n",
       "<style scoped>\n",
       "    .dataframe tbody tr th:only-of-type {\n",
       "        vertical-align: middle;\n",
       "    }\n",
       "\n",
       "    .dataframe tbody tr th {\n",
       "        vertical-align: top;\n",
       "    }\n",
       "\n",
       "    .dataframe thead th {\n",
       "        text-align: right;\n",
       "    }\n",
       "</style>\n",
       "<table border=\"1\" class=\"dataframe\">\n",
       "  <thead>\n",
       "    <tr style=\"text-align: right;\">\n",
       "      <th></th>\n",
       "      <th>Date</th>\n",
       "      <th>Value</th>\n",
       "      <th>Anomaly</th>\n",
       "    </tr>\n",
       "  </thead>\n",
       "  <tbody>\n",
       "    <tr>\n",
       "      <th>0</th>\n",
       "      <td>189501</td>\n",
       "      <td>34.2</td>\n",
       "      <td>-3.2</td>\n",
       "    </tr>\n",
       "    <tr>\n",
       "      <th>1</th>\n",
       "      <td>189601</td>\n",
       "      <td>34.7</td>\n",
       "      <td>-2.7</td>\n",
       "    </tr>\n",
       "    <tr>\n",
       "      <th>2</th>\n",
       "      <td>189701</td>\n",
       "      <td>35.5</td>\n",
       "      <td>-1.9</td>\n",
       "    </tr>\n",
       "  </tbody>\n",
       "</table>\n",
       "</div>"
      ],
      "text/plain": [
       "     Date  Value  Anomaly\n",
       "0  189501   34.2     -3.2\n",
       "1  189601   34.7     -2.7\n",
       "2  189701   35.5     -1.9"
      ]
     },
     "metadata": {},
     "output_type": "display_data"
    },
    {
     "data": {
      "text/html": [
       "<div>\n",
       "<style scoped>\n",
       "    .dataframe tbody tr th:only-of-type {\n",
       "        vertical-align: middle;\n",
       "    }\n",
       "\n",
       "    .dataframe tbody tr th {\n",
       "        vertical-align: top;\n",
       "    }\n",
       "\n",
       "    .dataframe thead th {\n",
       "        text-align: right;\n",
       "    }\n",
       "</style>\n",
       "<table border=\"1\" class=\"dataframe\">\n",
       "  <thead>\n",
       "    <tr style=\"text-align: right;\">\n",
       "      <th></th>\n",
       "      <th>Date</th>\n",
       "      <th>Value</th>\n",
       "      <th>Anomaly</th>\n",
       "    </tr>\n",
       "  </thead>\n",
       "  <tbody>\n",
       "    <tr>\n",
       "      <th>121</th>\n",
       "      <td>201601</td>\n",
       "      <td>40.8</td>\n",
       "      <td>3.4</td>\n",
       "    </tr>\n",
       "    <tr>\n",
       "      <th>122</th>\n",
       "      <td>201701</td>\n",
       "      <td>42.8</td>\n",
       "      <td>5.4</td>\n",
       "    </tr>\n",
       "    <tr>\n",
       "      <th>123</th>\n",
       "      <td>201801</td>\n",
       "      <td>38.7</td>\n",
       "      <td>1.3</td>\n",
       "    </tr>\n",
       "  </tbody>\n",
       "</table>\n",
       "</div>"
      ],
      "text/plain": [
       "       Date  Value  Anomaly\n",
       "121  201601   40.8      3.4\n",
       "122  201701   42.8      5.4\n",
       "123  201801   38.7      1.3"
      ]
     },
     "metadata": {},
     "output_type": "display_data"
    }
   ],
   "source": [
    "# Display the first 3 rows of the dataset to check the structure and column names\n",
    "display(nyc_df.head(3))  \n",
    "\n",
    "# Display the last 3 rows to verify data consistency and completeness\n",
    "display(nyc_df.tail(3))"
   ]
  },
  {
   "cell_type": "markdown",
   "metadata": {},
   "source": [
    "### Data Cleaning"
   ]
  },
  {
   "cell_type": "code",
   "execution_count": 138,
   "metadata": {},
   "outputs": [
    {
     "data": {
      "text/html": [
       "<div>\n",
       "<style scoped>\n",
       "    .dataframe tbody tr th:only-of-type {\n",
       "        vertical-align: middle;\n",
       "    }\n",
       "\n",
       "    .dataframe tbody tr th {\n",
       "        vertical-align: top;\n",
       "    }\n",
       "\n",
       "    .dataframe thead th {\n",
       "        text-align: right;\n",
       "    }\n",
       "</style>\n",
       "<table border=\"1\" class=\"dataframe\">\n",
       "  <thead>\n",
       "    <tr style=\"text-align: right;\">\n",
       "      <th></th>\n",
       "      <th>Date</th>\n",
       "      <th>Temperature</th>\n",
       "      <th>Anomaly</th>\n",
       "    </tr>\n",
       "  </thead>\n",
       "  <tbody>\n",
       "    <tr>\n",
       "      <th>0</th>\n",
       "      <td>1895</td>\n",
       "      <td>34.2</td>\n",
       "      <td>-3.2</td>\n",
       "    </tr>\n",
       "    <tr>\n",
       "      <th>1</th>\n",
       "      <td>1896</td>\n",
       "      <td>34.7</td>\n",
       "      <td>-2.7</td>\n",
       "    </tr>\n",
       "    <tr>\n",
       "      <th>2</th>\n",
       "      <td>1897</td>\n",
       "      <td>35.5</td>\n",
       "      <td>-1.9</td>\n",
       "    </tr>\n",
       "  </tbody>\n",
       "</table>\n",
       "</div>"
      ],
      "text/plain": [
       "   Date  Temperature  Anomaly\n",
       "0  1895         34.2     -3.2\n",
       "1  1896         34.7     -2.7\n",
       "2  1897         35.5     -1.9"
      ]
     },
     "metadata": {},
     "output_type": "display_data"
    }
   ],
   "source": [
    "# Renaming columns for better readability\n",
    "nyc_df.columns = ['Date', 'Temperature', 'Anomaly']\n",
    "\n",
    "# Check the data type of the 'Date' column to ensure it's numeric\n",
    "nyc_df.Date.dtype\n",
    "\n",
    "#Convert YYYYMM to YYYY (truncate last two digits)\n",
    "nyc_df.Date = nyc_df.Date.floordiv(100)\n",
    "\n",
    "#\n",
    "display(nyc_df.head(3))"
   ]
  },
  {
   "cell_type": "markdown",
   "metadata": {},
   "source": [
    "### Descriptive Statistics"
   ]
  },
  {
   "cell_type": "code",
   "execution_count": 139,
   "metadata": {},
   "outputs": [
    {
     "data": {
      "text/plain": [
       "count    124.00\n",
       "mean      37.60\n",
       "std        4.54\n",
       "min       26.10\n",
       "25%       34.58\n",
       "50%       37.60\n",
       "75%       40.60\n",
       "max       47.60\n",
       "Name: Temperature, dtype: float64"
      ]
     },
     "execution_count": 139,
     "metadata": {},
     "output_type": "execute_result"
    }
   ],
   "source": [
    "#Calculating basic descriptive stats for the dataset\n",
    "pd.set_option('display.precision', 2)\n",
    "\n",
    "# Display temperature stats\n",
    "nyc_df.Temperature.describe()"
   ]
  },
  {
   "cell_type": "markdown",
   "metadata": {},
   "source": [
    "### Build the Model"
   ]
  },
  {
   "cell_type": "code",
   "execution_count": 140,
   "metadata": {},
   "outputs": [
    {
     "data": {
      "text/plain": [
       "np.float64(0.014771361132966163)"
      ]
     },
     "metadata": {},
     "output_type": "display_data"
    },
    {
     "data": {
      "text/plain": [
       "np.float64(8.694993233674289)"
      ]
     },
     "metadata": {},
     "output_type": "display_data"
    }
   ],
   "source": [
    "# forecasting future January average high temperatures\n",
    "linear_regression = stats.linregress(x=nyc_df.Date, y=nyc_df.Temperature)\n",
    "\n",
    "display(linear_regression.slope)\n",
    "\n",
    "display(linear_regression.intercept)\n",
    "\n",
    "# Predict the average high temp for 2024\n",
    "forecast_2024 = linear_regression.slope * 2024 + linear_regression.intercept"
   ]
  },
  {
   "cell_type": "markdown",
   "metadata": {},
   "source": [
    "### Visualizations\n",
    "- This section generates a scatter plot of historical NYC January high temperatures along with a regression line.  \n",
    "- The trend line is manually extended beyond 2018 to forecast future temperatures up to 2040.  \n",
    "- A red dot highlights the predicted temperature for 2024.  \n",
    "- Seaborn's `regplot()` is used for initial visualization, while Matplotlib is used to extend the trend line and emphasize predictions.\n",
    "- Adjusted the X-axis, Y-axis, title, and legend for clarity.\n"
   ]
  },
  {
   "cell_type": "code",
   "execution_count": 141,
   "metadata": {},
   "outputs": [
    {
     "data": {
      "image/png": "[encoded data removed]",
      "text/plain": [
       "<Figure size 640x480 with 1 Axes>"
      ]
     },
     "metadata": {},
     "output_type": "display_data"
    }
   ],
   "source": [
    "# Generate an extended range of years. Extends past 2024 for clarity\n",
    "extended_years = np.arange(nyc_df.Date.min(), 2024)  \n",
    "\n",
    "# Predicted line\n",
    "predicted_temps = linear_regression.slope * extended_years + linear_regression.intercept  \n",
    "\n",
    "# Set Seaborn style\n",
    "sns.set_style('whitegrid')\n",
    "\n",
    "# Create the regression plot for observed temperature data\n",
    "axes = sns.regplot(x=nyc_df.Date, y=nyc_df.Temperature, scatter_kws={\"s\": 10}, line_kws={\"color\": \"blue\"}, label=\"Observed Data\")\n",
    "\n",
    "# Plot the regression line manually so it extends to 2024\n",
    "plt.plot(extended_years, predicted_temps, color='red', linestyle='-', linewidth=2, label=\"Best-Fit Line (Trend)\")\n",
    "\n",
    "# Plot the predicted temperature for 2024 as a red dot so it stands out\n",
    "plt.scatter(2024, forecast_2024, color='red', marker='o', s=20, label='2024 Predicted Temp')\n",
    "\n",
    "# # Set X and Y limits\n",
    "plt.xlim(nyc_df.Date.min(), 2027)  # Extended slightly beyond 2024 to set the prediction clearly\n",
    "plt.ylim(10, 70)\n",
    "\n",
    "# Add Title & Labels\n",
    "plt.title('NYC January High Temperatures (1895 – 2024): Observed vs. Predicted')  \n",
    "plt.xlabel(\"Year\")\n",
    "plt.ylabel(\"Avg High Temp (°F)\")\n",
    "\n",
    "# Show legend\n",
    "plt.legend();\n",
    "\n",
    "# Prints prediction for 2024\n",
    "# print(f\"Predicted Average High Temperature for January 2024: {forecast_2024:.2f}°F\")"
   ]
  },
  {
   "cell_type": "markdown",
   "metadata": {},
   "source": [
    "## Part 3 - Predict Avg High Temp in NYC in January"
   ]
  },
  {
   "cell_type": "markdown",
   "metadata": {},
   "source": [
    "## Training the Model"
   ]
  },
  {
   "cell_type": "code",
   "execution_count": 142,
   "metadata": {},
   "outputs": [
    {
     "data": {
      "text/plain": [
       "(93, 1)"
      ]
     },
     "metadata": {},
     "output_type": "display_data"
    },
    {
     "data": {
      "text/plain": [
       "(31, 1)"
      ]
     },
     "metadata": {},
     "output_type": "display_data"
    },
    {
     "name": "stdout",
     "output_type": "stream",
     "text": [
      "{'copy_X': True, 'fit_intercept': True, 'n_jobs': None, 'positive': False}\n"
     ]
    },
    {
     "data": {
      "text/plain": [
       "array([0.01939167])"
      ]
     },
     "metadata": {},
     "output_type": "display_data"
    },
    {
     "data": {
      "text/plain": [
       "np.float64(-0.30779820252656975)"
      ]
     },
     "metadata": {},
     "output_type": "display_data"
    }
   ],
   "source": [
    "X_train, X_test, y_train, y_test = train_test_split (\n",
    "    nyc_df.Date.values.reshape(-1, 1), nyc_df.Temperature.values, random_state=11\n",
    ")\n",
    "\n",
    "# Shows the number of rows and columns in X_train (training data for features).\n",
    "display(X_train.shape)\n",
    "\n",
    "# Shows the number of rows and columns in (test data for features).\n",
    "display(X_test.shape)\n",
    "\n",
    "linear_regression = LinearRegression()\n",
    "linear_regression.fit(X=X_train, y=y_train)\n",
    "\n",
    "# To print the book's output because with the above alone it didn't print. Per AI this difference happens because scikit-learn updated how it displays model parameters in version 1.0+.\n",
    "print(linear_regression.get_params()) \n",
    "\n",
    "# To print the slope in the \"m\" part of the equation y = mx + b\n",
    "display(linear_regression.coef_)\n",
    "\n",
    "# To print the intercept in the \"b\" part of the equation y = mx + b\n",
    "display(linear_regression.intercept_)"
   ]
  },
  {
   "cell_type": "markdown",
   "metadata": {},
   "source": [
    "## Testing the Model"
   ]
  },
  {
   "cell_type": "code",
   "execution_count": 143,
   "metadata": {},
   "outputs": [
    {
     "name": "stdout",
     "output_type": "stream",
     "text": [
      "Predicted: 37.86, Expected: 31.70\n",
      "Predicted: 38.69, Expected: 34.80\n",
      "Predicted: 37.00, Expected: 39.40\n",
      "Predicted: 37.25, Expected: 45.70\n",
      "Predicted: 38.05, Expected: 32.30\n",
      "Predicted: 37.64, Expected: 33.80\n",
      "Predicted: 36.94, Expected: 39.70\n"
     ]
    }
   ],
   "source": [
    "# This code compares the model’s predictions to the actual values for temperature.\n",
    "\n",
    "# Uses the trained model (linear_regression) to predict temperatures based on X_test (the test set of years). Stores the predictions in predicted variable.\n",
    "predicted = linear_regression.predict(X_test)\n",
    "\n",
    "# Stores the true actual temperatures from y_test in expected variable for comparison.\n",
    "expected = y_test\n",
    "\n",
    "#  Loops every 5th element ([::5]) from predicted (aka p) and expected (aka e) to avoid printing every single value.The .2f rounds numbers to 2 decimal places. \n",
    "for p, e in zip(predicted[::5], expected[::5]):  \n",
    "    print(f'Predicted: {p:.2f}, Expected: {e:.2f}')"
   ]
  },
  {
   "cell_type": "markdown",
   "metadata": {},
   "source": [
    "## Prediction"
   ]
  },
  {
   "cell_type": "code",
   "execution_count": 144,
   "metadata": {},
   "outputs": [
    {
     "data": {
      "text/plain": [
       "array([38.94])"
      ]
     },
     "metadata": {},
     "output_type": "display_data"
    },
    {
     "data": {
      "text/plain": [
       "array([36.34])"
      ]
     },
     "metadata": {},
     "output_type": "display_data"
    }
   ],
   "source": [
    "#  This code predicts January high temperatures for any given year using y = mx + b for 2024 and 1890.\n",
    "\n",
    "predict = (lambda x: linear_regression.coef_ * x + linear_regression.intercept_)\n",
    "\n",
    "display(predict(2024).round(2))\n",
    "display(predict(1890).round(2))"
   ]
  },
  {
   "cell_type": "markdown",
   "metadata": {},
   "source": [
    "# Visualizations\n"
   ]
  },
  {
   "cell_type": "code",
   "execution_count": 145,
   "metadata": {},
   "outputs": [
    {
     "data": {
      "image/png": "[encoded data removed]",
      "text/plain": [
       "<Figure size 640x480 with 1 Axes>"
      ]
     },
     "metadata": {},
     "output_type": "display_data"
    }
   ],
   "source": [
    "# Use scatterplot with the nyc DataFrame to display the data points. \n",
    "axes = sns.scatterplot(data=nyc_df, x='Date', y='Temperature', hue='Temperature', palette='winter', legend=False)\n",
    "\n",
    "# Scale y-axis range of values for better readability\n",
    "axes.set_ylim(10, 70)\n",
    "\n",
    "axes.set_title(\"NYC January High Temperatures (1895 – 2024): Observed vs. Predicted\")\n",
    "\n",
    "# The x-coordinates of the regression line's start and end points\n",
    "x = np.array([min(nyc_df.Date.values), max(nyc_df.Date.values)])\n",
    "y = predict(x)\n",
    "\n",
    "line = plt.plot(x, y)"
   ]
  }
 ],
 "metadata": {
  "kernelspec": {
   "display_name": ".venv",
   "language": "python",
   "name": "python3"
  },
  "language_info": {
   "codemirror_mode": {
    "name": "ipython",
    "version": 3
   },
   "file_extension": ".py",
   "mimetype": "text/x-python",
   "name": "python",
   "nbconvert_exporter": "python",
   "pygments_lexer": "ipython3",
   "version": "3.13.1"
  }
 },
 "nbformat": 4,
 "nbformat_minor": 2
}
